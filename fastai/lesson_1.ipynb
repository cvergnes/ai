{
 "cells": [
  {
   "cell_type": "code",
   "execution_count": 54,
   "id": "88651aab-c336-464a-8423-896bfa32cd3a",
   "metadata": {
    "execution": {
     "iopub.execute_input": "2022-07-23T21:28:32.103157Z",
     "iopub.status.busy": "2022-07-23T21:28:32.102621Z",
     "iopub.status.idle": "2022-07-23T21:28:32.111472Z",
     "shell.execute_reply": "2022-07-23T21:28:32.110013Z",
     "shell.execute_reply.started": "2022-07-23T21:28:32.103116Z"
    }
   },
   "outputs": [
    {
     "data": {
      "text/plain": [
       "Path('mercedes_or_bmw2')"
      ]
     },
     "execution_count": 54,
     "metadata": {},
     "output_type": "execute_result"
    }
   ],
   "source": [
    "path"
   ]
  },
  {
   "cell_type": "code",
   "execution_count": 36,
   "id": "a0629507-5b35-4f4f-9f47-44335e8609db",
   "metadata": {
    "execution": {
     "iopub.execute_input": "2022-07-23T21:18:40.545290Z",
     "iopub.status.busy": "2022-07-23T21:18:40.544927Z",
     "iopub.status.idle": "2022-07-23T21:18:40.553880Z",
     "shell.execute_reply": "2022-07-23T21:18:40.552768Z",
     "shell.execute_reply.started": "2022-07-23T21:18:40.545264Z"
    }
   },
   "outputs": [],
   "source": [
    "from fastcore.all import *\n",
    "import time\n",
    "import re\n",
    "\n",
    "def search_images(term, max_size=200): \n",
    "    url = 'https://duckduckgo.com/'\n",
    "    res = urlread(url, data={'q':term})\n",
    "    pattern = re.search(r'vqd=([\\d-]+)\\&', res)\n",
    "    params = {'vqd' : pattern.group(1), 'p': '1', 'o':'json', 'q':term}\n",
    "    urls, next = set(), ''\n",
    "    req = url + 'i.js'\n",
    "    while len(urls) < max_size and next is not null :\n",
    "        json = urljson(req, data=params)\n",
    "        urls.update( L(json[\"results\"]).itemgot('image'))\n",
    "        req = url + json[\"next\"]\n",
    "        time.sleep(1)\n",
    "    return L(urls)[:max_size]\n"
   ]
  },
  {
   "cell_type": "code",
   "execution_count": 23,
   "id": "6e8c2403-ce84-4416-a26c-61e93cf0fa3d",
   "metadata": {
    "execution": {
     "iopub.execute_input": "2022-07-23T20:25:27.214368Z",
     "iopub.status.busy": "2022-07-23T20:25:27.213927Z",
     "iopub.status.idle": "2022-07-23T20:26:26.386010Z",
     "shell.execute_reply": "2022-07-23T20:26:26.384924Z",
     "shell.execute_reply.started": "2022-07-23T20:25:27.214327Z"
    }
   },
   "outputs": [],
   "source": [
    "search = 'bmw', 'mercedes'\n",
    "path = Path('mercedes_or_bmw2')\n",
    "\n",
    "for term in search : \n",
    "    (path/term).mkdir(parents=true, exist_ok=true)\n",
    "    download_images(path/term, urls=search_images(f'{term} photo'))\n",
    "    resize_images(path/term, max_size=400)"
   ]
  },
  {
   "cell_type": "code",
   "execution_count": 22,
   "id": "d9194259-4437-4d8a-87ec-425ad2a716a4",
   "metadata": {
    "execution": {
     "iopub.execute_input": "2022-07-23T20:23:38.671569Z",
     "iopub.status.busy": "2022-07-23T20:23:38.671050Z",
     "iopub.status.idle": "2022-07-23T20:23:38.692625Z",
     "shell.execute_reply": "2022-07-23T20:23:38.691654Z",
     "shell.execute_reply.started": "2022-07-23T20:23:38.671527Z"
    }
   },
   "outputs": [
    {
     "data": {
      "text/plain": [
       "\u001b[0;31mSignature:\u001b[0m\n",
       "\u001b[0mresize_images\u001b[0m\u001b[0;34m(\u001b[0m\u001b[0;34m\u001b[0m\n",
       "\u001b[0;34m\u001b[0m    \u001b[0mpath\u001b[0m\u001b[0;34m,\u001b[0m\u001b[0;34m\u001b[0m\n",
       "\u001b[0;34m\u001b[0m    \u001b[0mmax_workers\u001b[0m\u001b[0;34m=\u001b[0m\u001b[0;36m8\u001b[0m\u001b[0;34m,\u001b[0m\u001b[0;34m\u001b[0m\n",
       "\u001b[0;34m\u001b[0m    \u001b[0mmax_size\u001b[0m\u001b[0;34m=\u001b[0m\u001b[0;32mNone\u001b[0m\u001b[0;34m,\u001b[0m\u001b[0;34m\u001b[0m\n",
       "\u001b[0;34m\u001b[0m    \u001b[0mrecurse\u001b[0m\u001b[0;34m=\u001b[0m\u001b[0;32mFalse\u001b[0m\u001b[0;34m,\u001b[0m\u001b[0;34m\u001b[0m\n",
       "\u001b[0;34m\u001b[0m    \u001b[0mdest\u001b[0m\u001b[0;34m=\u001b[0m\u001b[0mPath\u001b[0m\u001b[0;34m(\u001b[0m\u001b[0;34m'.'\u001b[0m\u001b[0;34m)\u001b[0m\u001b[0;34m,\u001b[0m\u001b[0;34m\u001b[0m\n",
       "\u001b[0;34m\u001b[0m    \u001b[0mn_channels\u001b[0m\u001b[0;34m=\u001b[0m\u001b[0;36m3\u001b[0m\u001b[0;34m,\u001b[0m\u001b[0;34m\u001b[0m\n",
       "\u001b[0;34m\u001b[0m    \u001b[0mext\u001b[0m\u001b[0;34m=\u001b[0m\u001b[0;32mNone\u001b[0m\u001b[0;34m,\u001b[0m\u001b[0;34m\u001b[0m\n",
       "\u001b[0;34m\u001b[0m    \u001b[0mimg_format\u001b[0m\u001b[0;34m=\u001b[0m\u001b[0;32mNone\u001b[0m\u001b[0;34m,\u001b[0m\u001b[0;34m\u001b[0m\n",
       "\u001b[0;34m\u001b[0m    \u001b[0mresample\u001b[0m\u001b[0;34m=\u001b[0m\u001b[0;34m<\u001b[0m\u001b[0mResampling\u001b[0m\u001b[0;34m.\u001b[0m\u001b[0mBILINEAR\u001b[0m\u001b[0;34m:\u001b[0m \u001b[0;36m2\u001b[0m\u001b[0;34m>\u001b[0m\u001b[0;34m,\u001b[0m\u001b[0;34m\u001b[0m\n",
       "\u001b[0;34m\u001b[0m    \u001b[0mresume\u001b[0m\u001b[0;34m=\u001b[0m\u001b[0;32mNone\u001b[0m\u001b[0;34m,\u001b[0m\u001b[0;34m\u001b[0m\n",
       "\u001b[0;34m\u001b[0m    \u001b[0;34m**\u001b[0m\u001b[0mkwargs\u001b[0m\u001b[0;34m,\u001b[0m\u001b[0;34m\u001b[0m\n",
       "\u001b[0;34m\u001b[0m\u001b[0;34m)\u001b[0m\u001b[0;34m\u001b[0m\u001b[0;34m\u001b[0m\u001b[0m\n",
       "\u001b[0;31mSource:\u001b[0m   \n",
       "\u001b[0;32mdef\u001b[0m \u001b[0mresize_images\u001b[0m\u001b[0;34m(\u001b[0m\u001b[0mpath\u001b[0m\u001b[0;34m,\u001b[0m \u001b[0mmax_workers\u001b[0m\u001b[0;34m=\u001b[0m\u001b[0mdefaults\u001b[0m\u001b[0;34m.\u001b[0m\u001b[0mcpus\u001b[0m\u001b[0;34m,\u001b[0m \u001b[0mmax_size\u001b[0m\u001b[0;34m=\u001b[0m\u001b[0;32mNone\u001b[0m\u001b[0;34m,\u001b[0m \u001b[0mrecurse\u001b[0m\u001b[0;34m=\u001b[0m\u001b[0;32mFalse\u001b[0m\u001b[0;34m,\u001b[0m\u001b[0;34m\u001b[0m\n",
       "\u001b[0;34m\u001b[0m                  \u001b[0mdest\u001b[0m\u001b[0;34m=\u001b[0m\u001b[0mPath\u001b[0m\u001b[0;34m(\u001b[0m\u001b[0;34m'.'\u001b[0m\u001b[0;34m)\u001b[0m\u001b[0;34m,\u001b[0m \u001b[0mn_channels\u001b[0m\u001b[0;34m=\u001b[0m\u001b[0;36m3\u001b[0m\u001b[0;34m,\u001b[0m \u001b[0mext\u001b[0m\u001b[0;34m=\u001b[0m\u001b[0;32mNone\u001b[0m\u001b[0;34m,\u001b[0m \u001b[0mimg_format\u001b[0m\u001b[0;34m=\u001b[0m\u001b[0;32mNone\u001b[0m\u001b[0;34m,\u001b[0m \u001b[0mresample\u001b[0m\u001b[0;34m=\u001b[0m\u001b[0mBILINEAR\u001b[0m\u001b[0;34m,\u001b[0m\u001b[0;34m\u001b[0m\n",
       "\u001b[0;34m\u001b[0m                  \u001b[0mresume\u001b[0m\u001b[0;34m=\u001b[0m\u001b[0;32mNone\u001b[0m\u001b[0;34m,\u001b[0m \u001b[0;34m**\u001b[0m\u001b[0mkwargs\u001b[0m\u001b[0;34m)\u001b[0m\u001b[0;34m:\u001b[0m\u001b[0;34m\u001b[0m\n",
       "\u001b[0;34m\u001b[0m    \u001b[0;34m\"Resize files on path recursively to dest to max_size\"\u001b[0m\u001b[0;34m\u001b[0m\n",
       "\u001b[0;34m\u001b[0m    \u001b[0mpath\u001b[0m \u001b[0;34m=\u001b[0m \u001b[0mPath\u001b[0m\u001b[0;34m(\u001b[0m\u001b[0mpath\u001b[0m\u001b[0;34m)\u001b[0m\u001b[0;34m\u001b[0m\n",
       "\u001b[0;34m\u001b[0m    \u001b[0;32mif\u001b[0m \u001b[0mresume\u001b[0m \u001b[0;32mis\u001b[0m \u001b[0;32mNone\u001b[0m \u001b[0;32mand\u001b[0m \u001b[0mdest\u001b[0m \u001b[0;34m!=\u001b[0m \u001b[0mPath\u001b[0m\u001b[0;34m(\u001b[0m\u001b[0;34m'.'\u001b[0m\u001b[0;34m)\u001b[0m\u001b[0;34m:\u001b[0m \u001b[0mresume\u001b[0m\u001b[0;34m=\u001b[0m\u001b[0;32mFalse\u001b[0m\u001b[0;34m\u001b[0m\n",
       "\u001b[0;34m\u001b[0m    \u001b[0mos\u001b[0m\u001b[0;34m.\u001b[0m\u001b[0mmakedirs\u001b[0m\u001b[0;34m(\u001b[0m\u001b[0mdest\u001b[0m\u001b[0;34m,\u001b[0m \u001b[0mexist_ok\u001b[0m\u001b[0;34m=\u001b[0m\u001b[0;32mTrue\u001b[0m\u001b[0;34m)\u001b[0m\u001b[0;34m\u001b[0m\n",
       "\u001b[0;34m\u001b[0m    \u001b[0mfiles\u001b[0m \u001b[0;34m=\u001b[0m \u001b[0mget_image_files\u001b[0m\u001b[0;34m(\u001b[0m\u001b[0mpath\u001b[0m\u001b[0;34m,\u001b[0m \u001b[0mrecurse\u001b[0m\u001b[0;34m=\u001b[0m\u001b[0mrecurse\u001b[0m\u001b[0;34m)\u001b[0m\u001b[0;34m\u001b[0m\n",
       "\u001b[0;34m\u001b[0m    \u001b[0mfiles\u001b[0m \u001b[0;34m=\u001b[0m \u001b[0;34m[\u001b[0m\u001b[0mo\u001b[0m\u001b[0;34m.\u001b[0m\u001b[0mrelative_to\u001b[0m\u001b[0;34m(\u001b[0m\u001b[0mpath\u001b[0m\u001b[0;34m)\u001b[0m \u001b[0;32mfor\u001b[0m \u001b[0mo\u001b[0m \u001b[0;32min\u001b[0m \u001b[0mfiles\u001b[0m\u001b[0;34m]\u001b[0m\u001b[0;34m\u001b[0m\n",
       "\u001b[0;34m\u001b[0m    \u001b[0mparallel\u001b[0m\u001b[0;34m(\u001b[0m\u001b[0mresize_image\u001b[0m\u001b[0;34m,\u001b[0m \u001b[0mfiles\u001b[0m\u001b[0;34m,\u001b[0m \u001b[0msrc\u001b[0m\u001b[0;34m=\u001b[0m\u001b[0mpath\u001b[0m\u001b[0;34m,\u001b[0m \u001b[0mn_workers\u001b[0m\u001b[0;34m=\u001b[0m\u001b[0mmax_workers\u001b[0m\u001b[0;34m,\u001b[0m \u001b[0mmax_size\u001b[0m\u001b[0;34m=\u001b[0m\u001b[0mmax_size\u001b[0m\u001b[0;34m,\u001b[0m \u001b[0mdest\u001b[0m\u001b[0;34m=\u001b[0m\u001b[0mdest\u001b[0m\u001b[0;34m,\u001b[0m \u001b[0mn_channels\u001b[0m\u001b[0;34m=\u001b[0m\u001b[0mn_channels\u001b[0m\u001b[0;34m,\u001b[0m \u001b[0mext\u001b[0m\u001b[0;34m=\u001b[0m\u001b[0mext\u001b[0m\u001b[0;34m,\u001b[0m\u001b[0;34m\u001b[0m\n",
       "\u001b[0;34m\u001b[0m                   \u001b[0mimg_format\u001b[0m\u001b[0;34m=\u001b[0m\u001b[0mimg_format\u001b[0m\u001b[0;34m,\u001b[0m \u001b[0mresample\u001b[0m\u001b[0;34m=\u001b[0m\u001b[0mresample\u001b[0m\u001b[0;34m,\u001b[0m \u001b[0mresume\u001b[0m\u001b[0;34m=\u001b[0m\u001b[0mresume\u001b[0m\u001b[0;34m,\u001b[0m \u001b[0;34m**\u001b[0m\u001b[0mkwargs\u001b[0m\u001b[0;34m)\u001b[0m\u001b[0;34m\u001b[0m\u001b[0;34m\u001b[0m\u001b[0m\n",
       "\u001b[0;31mFile:\u001b[0m      ~/mambaforge/lib/python3.9/site-packages/fastai/vision/utils.py\n",
       "\u001b[0;31mType:\u001b[0m      function\n"
      ]
     },
     "metadata": {},
     "output_type": "display_data"
    }
   ],
   "source": [
    "from fastai.vision.all import *\n",
    "??resize_images"
   ]
  },
  {
   "cell_type": "code",
   "execution_count": 24,
   "id": "b12f440d-9152-4339-b062-260a07a75d16",
   "metadata": {
    "execution": {
     "iopub.execute_input": "2022-07-23T20:26:31.367346Z",
     "iopub.status.busy": "2022-07-23T20:26:31.366933Z",
     "iopub.status.idle": "2022-07-23T20:26:34.189820Z",
     "shell.execute_reply": "2022-07-23T20:26:34.188209Z",
     "shell.execute_reply.started": "2022-07-23T20:26:31.367314Z"
    }
   },
   "outputs": [
    {
     "name": "stdout",
     "output_type": "stream",
     "text": [
      "2\n"
     ]
    }
   ],
   "source": [
    "failed = verify_images(get_image_files(path))\n",
    "failed.map(Path.unlink)\n",
    "print(len(failed))"
   ]
  },
  {
   "cell_type": "code",
   "execution_count": 37,
   "id": "b30ce92a-83e3-46ca-af5c-26d09f332c80",
   "metadata": {
    "execution": {
     "iopub.execute_input": "2022-07-23T21:18:51.318056Z",
     "iopub.status.busy": "2022-07-23T21:18:51.317520Z",
     "iopub.status.idle": "2022-07-23T21:18:51.326612Z",
     "shell.execute_reply": "2022-07-23T21:18:51.325045Z",
     "shell.execute_reply.started": "2022-07-23T21:18:51.318056Z"
    }
   },
   "outputs": [
    {
     "data": {
      "text/plain": [
       "Path('mercedes_or_bmw2')"
      ]
     },
     "execution_count": 37,
     "metadata": {},
     "output_type": "execute_result"
    }
   ],
   "source": [
    "path"
   ]
  },
  {
   "cell_type": "code",
   "execution_count": 25,
   "id": "619b5ea2-7193-4a58-8915-91486000f074",
   "metadata": {
    "execution": {
     "iopub.execute_input": "2022-07-23T20:33:15.245814Z",
     "iopub.status.busy": "2022-07-23T20:33:15.245359Z",
     "iopub.status.idle": "2022-07-23T20:33:15.261061Z",
     "shell.execute_reply": "2022-07-23T20:33:15.259672Z",
     "shell.execute_reply.started": "2022-07-23T20:33:15.245783Z"
    }
   },
   "outputs": [
    {
     "data": {
      "text/plain": [
       "<function fastai.vision.data.ImageBlock(cls: 'PILBase' = <class 'fastai.vision.core.PILImage'>)>"
      ]
     },
     "execution_count": 25,
     "metadata": {},
     "output_type": "execute_result"
    }
   ],
   "source": [
    "ImageBlock"
   ]
  },
  {
   "cell_type": "code",
   "execution_count": 57,
   "id": "c87ba6a3-7dec-4649-916a-98196febe3cf",
   "metadata": {
    "execution": {
     "iopub.execute_input": "2022-07-23T21:32:58.134142Z",
     "iopub.status.busy": "2022-07-23T21:32:58.133967Z",
     "iopub.status.idle": "2022-07-23T21:33:05.043433Z",
     "shell.execute_reply": "2022-07-23T21:33:05.042424Z",
     "shell.execute_reply.started": "2022-07-23T21:32:58.134114Z"
    }
   },
   "outputs": [],
   "source": [
    "dls = DataBlock(\n",
    "    blocks = (ImageBlock, CategoryBlock),\n",
    "    get_items = get_image_files,\n",
    "    splitter = RandomSplitter(valid_pct=0.2, seed=42),\n",
    "    get_y=parent_label,\n",
    "    item_tfms=[Resize(192, method='squish')]).dataloaders(path)"
   ]
  },
  {
   "cell_type": "code",
   "execution_count": null,
   "id": "bb3541d8-aa8e-4327-bd94-027363f6f0b7",
   "metadata": {},
   "outputs": [],
   "source": []
  }
 ],
 "metadata": {
  "kernelspec": {
   "display_name": "Python 3 (ipykernel)",
   "language": "python",
   "name": "python3"
  },
  "language_info": {
   "codemirror_mode": {
    "name": "ipython",
    "version": 3
   },
   "file_extension": ".py",
   "mimetype": "text/x-python",
   "name": "python",
   "nbconvert_exporter": "python",
   "pygments_lexer": "ipython3",
   "version": "3.9.13"
  }
 },
 "nbformat": 4,
 "nbformat_minor": 5
}
